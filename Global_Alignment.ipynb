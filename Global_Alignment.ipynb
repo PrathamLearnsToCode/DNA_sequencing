{
  "nbformat": 4,
  "nbformat_minor": 0,
  "metadata": {
    "colab": {
      "name": "Global_Alignment.ipynb",
      "provenance": []
    },
    "kernelspec": {
      "name": "python3",
      "display_name": "Python 3"
    },
    "language_info": {
      "name": "python"
    }
  },
  "cells": [
    {
      "cell_type": "code",
      "execution_count": 5,
      "metadata": {
        "id": "DkBgDWwMdON1"
      },
      "outputs": [],
      "source": [
        "alphabet = ['A', 'C', 'G', 'T']\n",
        "score = [[0, 4, 2, 4, 8],\n",
        "         [4, 0, 4, 2, 8],\n",
        "         [2, 4, 0, 4, 8],\n",
        "         [4, 2, 4, 0, 8],\n",
        "         [8, 8, 8, 8, 8]]"
      ]
    },
    {
      "cell_type": "code",
      "source": [
        "# converts from character to its offset in list alphabet\n",
        "alphabet.index('A')"
      ],
      "metadata": {
        "colab": {
          "base_uri": "https://localhost:8080/"
        },
        "id": "BzMTcdB-dTVj",
        "outputId": "a3750c9b-360b-4b23-8030-d21310492898"
      },
      "execution_count": 6,
      "outputs": [
        {
          "output_type": "execute_result",
          "data": {
            "text/plain": [
              "0"
            ]
          },
          "metadata": {},
          "execution_count": 6
        }
      ]
    },
    {
      "cell_type": "code",
      "source": [
        "alphabet.index('G')"
      ],
      "metadata": {
        "colab": {
          "base_uri": "https://localhost:8080/"
        },
        "id": "5XusPJI2dU67",
        "outputId": "43218bed-222c-4f58-a0a1-05eb2b6ed6ce"
      },
      "execution_count": 7,
      "outputs": [
        {
          "output_type": "execute_result",
          "data": {
            "text/plain": [
              "2"
            ]
          },
          "metadata": {},
          "execution_count": 7
        }
      ]
    },
    {
      "cell_type": "code",
      "source": [
        "# penalty associated with A (from X) mismatching with T (from Y)\n",
        "score[alphabet.index('A')][alphabet.index('T')]"
      ],
      "metadata": {
        "colab": {
          "base_uri": "https://localhost:8080/"
        },
        "id": "evEWsJeMdWw4",
        "outputId": "ff6ced51-89b3-4ee1-8808-2f0a869686a9"
      },
      "execution_count": 8,
      "outputs": [
        {
          "output_type": "execute_result",
          "data": {
            "text/plain": [
              "4"
            ]
          },
          "metadata": {},
          "execution_count": 8
        }
      ]
    },
    {
      "cell_type": "code",
      "source": [
        "# penalty associated with C (from X) being deleted in Y\n",
        "score[alphabet.index('C')][-1]"
      ],
      "metadata": {
        "colab": {
          "base_uri": "https://localhost:8080/"
        },
        "id": "qlouqD-Adu5c",
        "outputId": "819f6419-974a-4b66-ca20-ce4a97b2be87"
      },
      "execution_count": 9,
      "outputs": [
        {
          "output_type": "execute_result",
          "data": {
            "text/plain": [
              "8"
            ]
          },
          "metadata": {},
          "execution_count": 9
        }
      ]
    },
    {
      "cell_type": "code",
      "source": [
        "def globalAlignment(x, y):\n",
        "    # Create distance matrix\n",
        "    D = []\n",
        "    for i in range(len(x)+1):\n",
        "        D.append([0] * (len(y)+1))\n",
        "        \n",
        "    # Initialize first column\n",
        "    for i in range(1, len(x)+1):\n",
        "        D[i][0] = D[i-1][0] + score[alphabet.index(x[i-1])][-1]\n",
        "\n",
        "    # Initialize first row\n",
        "    for j in range(1,len(y)+1):\n",
        "        D[0][j] = D[0][j-1] + score[-1][alphabet.index(y[j-1])]\n",
        "        \n",
        "    # Fill rest of the matrix\n",
        "    for i in range(1, len(x)+1):\n",
        "        for j in range(1, len(y)+1):\n",
        "            distHor = D[i][j-1] + score[-1][alphabet.index(y[j-1])]\n",
        "            distVer = D[i-1][j] + score[alphabet.index(x[i-1])][-1]\n",
        "            distDiag = D[i-1][j-1] + score[alphabet.index(x[i-1])][alphabet.index(y[j-1])]\n",
        "            D[i][j] = min(distHor, distVer, distDiag)\n",
        "    \n",
        "    return D[-1][-1]  # return value in bottom right corner"
      ],
      "metadata": {
        "id": "qhHIZSycdvO0"
      },
      "execution_count": 11,
      "outputs": []
    },
    {
      "cell_type": "code",
      "source": [
        "x = 'TATGTCATGC'\n",
        "y = 'TATGGCAGC'\n",
        "print(globalAlignment(x,y))"
      ],
      "metadata": {
        "colab": {
          "base_uri": "https://localhost:8080/"
        },
        "id": "BMY2D95_dw6I",
        "outputId": "f2b93e4f-38c9-4de1-8b71-2e7a14a3ce55"
      },
      "execution_count": 12,
      "outputs": [
        {
          "output_type": "stream",
          "name": "stdout",
          "text": [
            "12\n"
          ]
        }
      ]
    },
    {
      "cell_type": "code",
      "source": [
        ""
      ],
      "metadata": {
        "id": "Sx4aW9UkdzX5"
      },
      "execution_count": null,
      "outputs": []
    }
  ]
}