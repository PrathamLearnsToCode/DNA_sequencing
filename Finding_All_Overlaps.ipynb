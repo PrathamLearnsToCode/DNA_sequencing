{
  "nbformat": 4,
  "nbformat_minor": 0,
  "metadata": {
    "colab": {
      "name": "Finding_All_Overlaps.ipynb",
      "provenance": []
    },
    "kernelspec": {
      "name": "python3",
      "display_name": "Python 3"
    },
    "language_info": {
      "name": "python"
    }
  },
  "cells": [
    {
      "cell_type": "code",
      "execution_count": 5,
      "metadata": {
        "id": "DkBgDWwMdON1"
      },
      "outputs": [],
      "source": [
        "alphabet = ['A', 'C', 'G', 'T']\n",
        "score = [[0, 4, 2, 4, 8],\n",
        "         [4, 0, 4, 2, 8],\n",
        "         [2, 4, 0, 4, 8],\n",
        "         [4, 2, 4, 0, 8],\n",
        "         [8, 8, 8, 8, 8]]"
      ]
    },
    {
      "cell_type": "code",
      "source": [
        "# converts from character to its offset in list alphabet\n",
        "alphabet.index('A')"
      ],
      "metadata": {
        "colab": {
          "base_uri": "https://localhost:8080/"
        },
        "id": "BzMTcdB-dTVj",
        "outputId": "a3750c9b-360b-4b23-8030-d21310492898"
      },
      "execution_count": 6,
      "outputs": [
        {
          "output_type": "execute_result",
          "data": {
            "text/plain": [
              "0"
            ]
          },
          "metadata": {},
          "execution_count": 6
        }
      ]
    },
    {
      "cell_type": "code",
      "source": [
        "alphabet.index('G')"
      ],
      "metadata": {
        "colab": {
          "base_uri": "https://localhost:8080/"
        },
        "id": "5XusPJI2dU67",
        "outputId": "43218bed-222c-4f58-a0a1-05eb2b6ed6ce"
      },
      "execution_count": 7,
      "outputs": [
        {
          "output_type": "execute_result",
          "data": {
            "text/plain": [
              "2"
            ]
          },
          "metadata": {},
          "execution_count": 7
        }
      ]
    },
    {
      "cell_type": "code",
      "source": [
        "# penalty associated with A (from X) mismatching with T (from Y)\n",
        "score[alphabet.index('A')][alphabet.index('T')]"
      ],
      "metadata": {
        "colab": {
          "base_uri": "https://localhost:8080/"
        },
        "id": "evEWsJeMdWw4",
        "outputId": "ff6ced51-89b3-4ee1-8808-2f0a869686a9"
      },
      "execution_count": 8,
      "outputs": [
        {
          "output_type": "execute_result",
          "data": {
            "text/plain": [
              "4"
            ]
          },
          "metadata": {},
          "execution_count": 8
        }
      ]
    },
    {
      "cell_type": "code",
      "source": [
        "# penalty associated with C (from X) being deleted in Y\n",
        "score[alphabet.index('C')][-1]"
      ],
      "metadata": {
        "colab": {
          "base_uri": "https://localhost:8080/"
        },
        "id": "qlouqD-Adu5c",
        "outputId": "819f6419-974a-4b66-ca20-ce4a97b2be87"
      },
      "execution_count": 9,
      "outputs": [
        {
          "output_type": "execute_result",
          "data": {
            "text/plain": [
              "8"
            ]
          },
          "metadata": {},
          "execution_count": 9
        }
      ]
    },
    {
      "cell_type": "code",
      "source": [
        "def overlap(a, b, min_length=3):\n",
        "    \"\"\" Return length of longest suffix of 'a' matching\n",
        "        a prefix of 'b' that is at least 'min_length'\n",
        "        characters long.  If no such overlap exists,\n",
        "        return 0. \"\"\"\n",
        "    start = 0  # start all the way at the left\n",
        "    while True:\n",
        "        start = a.find(b[:min_length], start)  # look for b's suffx in a\n",
        "        if start == -1:  # no more occurrences to right\n",
        "            return 0\n",
        "        # found occurrence; check for full suffix/prefix match\n",
        "        if b.startswith(a[start:]):\n",
        "            return len(a)-start\n",
        "        start += 1  # move just past previous match"
      ],
      "metadata": {
        "id": "qhHIZSycdvO0"
      },
      "execution_count": 16,
      "outputs": []
    },
    {
      "cell_type": "code",
      "source": [
        "from itertools import permutations\n",
        "\n",
        "list(permutations([1,2,3], 2))"
      ],
      "metadata": {
        "colab": {
          "base_uri": "https://localhost:8080/"
        },
        "id": "BMY2D95_dw6I",
        "outputId": "881bae9a-1c2e-4c6c-a34c-b3cb77e262a2"
      },
      "execution_count": 17,
      "outputs": [
        {
          "output_type": "execute_result",
          "data": {
            "text/plain": [
              "[(1, 2), (1, 3), (2, 1), (2, 3), (3, 1), (3, 2)]"
            ]
          },
          "metadata": {},
          "execution_count": 17
        }
      ]
    },
    {
      "cell_type": "code",
      "source": [
        "def naive_overlap_map(reads, k):\n",
        "    olaps = {}\n",
        "    for a, b in permutations(reads, 2):\n",
        "        olen = overlap(a, b, min_length=k)\n",
        "        if olen > 0:\n",
        "            olaps[(a, b)] = olen\n",
        "    return olaps"
      ],
      "metadata": {
        "id": "7Hr4STSjefdC"
      },
      "execution_count": 19,
      "outputs": []
    },
    {
      "cell_type": "code",
      "source": [
        "reads = ['ACGGATC', 'GATCAAGT', 'TTCACGGA']\n",
        "print(naive_overlap_map(reads, 3))"
      ],
      "metadata": {
        "colab": {
          "base_uri": "https://localhost:8080/"
        },
        "id": "Sx4aW9UkdzX5",
        "outputId": "fee37a94-e6c9-4226-e110-1d244b73411d"
      },
      "execution_count": 20,
      "outputs": [
        {
          "output_type": "stream",
          "name": "stdout",
          "text": [
            "{('ACGGATC', 'GATCAAGT'): 4, ('TTCACGGA', 'ACGGATC'): 5}\n"
          ]
        }
      ]
    },
    {
      "cell_type": "code",
      "source": [
        ""
      ],
      "metadata": {
        "id": "_vtW_WbfeNqT"
      },
      "execution_count": null,
      "outputs": []
    }
  ]
}