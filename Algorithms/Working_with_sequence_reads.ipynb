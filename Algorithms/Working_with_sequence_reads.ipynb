{
  "nbformat": 4,
  "nbformat_minor": 0,
  "metadata": {
    "colab": {
      "name": "Working_with_sequence_reads.ipynb",
      "provenance": []
    },
    "kernelspec": {
      "name": "python3",
      "display_name": "Python 3"
    },
    "language_info": {
      "name": "python"
    }
  },
  "cells": [
    {
      "cell_type": "code",
      "source": [
        "!wget --no-check https://d28rh4a8wq0iu5.cloudfront.net/ads1/data/SRR835775_1.first1000.fastq"
      ],
      "metadata": {
        "colab": {
          "base_uri": "https://localhost:8080/"
        },
        "id": "esllbANxQjUd",
        "outputId": "4cd3b7bc-5033-47c8-d451-2939239b2a56"
      },
      "execution_count": 46,
      "outputs": [
        {
          "output_type": "stream",
          "name": "stdout",
          "text": [
            "--2022-06-06 09:34:32--  https://d28rh4a8wq0iu5.cloudfront.net/ads1/data/SRR835775_1.first1000.fastq\n",
            "Resolving d28rh4a8wq0iu5.cloudfront.net (d28rh4a8wq0iu5.cloudfront.net)... 108.156.61.38, 108.156.61.78, 108.156.61.167, ...\n",
            "Connecting to d28rh4a8wq0iu5.cloudfront.net (d28rh4a8wq0iu5.cloudfront.net)|108.156.61.38|:443... connected.\n",
            "HTTP request sent, awaiting response... 200 OK\n",
            "Length: 224786 (220K) [application/octet-stream]\n",
            "Saving to: ‘SRR835775_1.first1000.fastq’\n",
            "\n",
            "SRR835775_1.first10 100%[===================>] 219.52K   808KB/s    in 0.3s    \n",
            "\n",
            "2022-06-06 09:34:32 (808 KB/s) - ‘SRR835775_1.first1000.fastq’ saved [224786/224786]\n",
            "\n"
          ]
        }
      ]
    },
    {
      "cell_type": "code",
      "source": [
        "def readFastq(filename):\n",
        "  sequences = []\n",
        "  qualities = []\n",
        "  with open(filename) as fh:\n",
        "    while True:\n",
        "      fh.readline()\n",
        "      seq = fh.readline().rstrip()\n",
        "      fh.readline()\n",
        "      qual = fh.readline().rstrip()\n",
        "      if len(seq) == 0:\n",
        "        break\n",
        "      sequences.append(seq)\n",
        "      qualities.append(qual)\n",
        "\n",
        "  return sequences, qualities\n",
        "\n",
        "seqs, quals = readFastq(\"/content/SRR835775_1.first1000.fastq\")"
      ],
      "metadata": {
        "id": "dF5qX8K6Xdno"
      },
      "execution_count": 48,
      "outputs": []
    },
    {
      "cell_type": "code",
      "source": [
        "print(quals[:5])"
      ],
      "metadata": {
        "colab": {
          "base_uri": "https://localhost:8080/"
        },
        "id": "aiKYRUztYSfv",
        "outputId": "9e5f5260-95e9-4a6a-99f7-576d760f02ad"
      },
      "execution_count": 49,
      "outputs": [
        {
          "output_type": "stream",
          "name": "stdout",
          "text": [
            "['???B1ADDD8??BB+C?B+:AA883CEE8?C3@DDD3)?D2;DC?8?=BAD=@C@(.6.6=A?=?@##################################', 'CCCFFFFFGHHGHJJJJJIJGIIJJJJJJJIJIJJJJJFJJFGIIIIH=CBFCF=CCEG)=>EHB2@@DEC>;;?=;(=?BBD?59?BA###########', '@@<DD?DDHHH<CBHII:CFGIGAGHIIG?CCGGE0BDHIIHIGICH8=FHGI=@EHGGGEEHH>);?CC@.;(=;?59,5<A599?CB>ABBCB><88A', '@CCFFDDFHHHDFHIJJCGGIJJHIIHJC?DHHIJ0?DGHI9BBFHICGGIGI=CDEGI=?AAEF7@?################################', '@<@FDFDDBBFHH@EBGGGEH@FFHE;EHIEGGBHG?)9?8BDGGBGGBCDGI=93=C6==C;CCD(?@>@#############################']\n"
          ]
        }
      ]
    },
    {
      "cell_type": "code",
      "source": [
        "def phred33ToQ(qual):\n",
        "  return ord(qual) - 33\n",
        "\n",
        "phred33ToQ('#')"
      ],
      "metadata": {
        "colab": {
          "base_uri": "https://localhost:8080/"
        },
        "id": "5EDd2nJzYVij",
        "outputId": "d3cfa100-36c8-45df-90a4-243dbe4984da"
      },
      "execution_count": 51,
      "outputs": [
        {
          "output_type": "execute_result",
          "data": {
            "text/plain": [
              "2"
            ]
          },
          "metadata": {},
          "execution_count": 51
        }
      ]
    },
    {
      "cell_type": "code",
      "source": [
        "def createHist(qualities):\n",
        "  hist = [0]*50\n",
        "  for qual in qualities:\n",
        "    for phred in qual:\n",
        "      q = phred33ToQ(phred)\n",
        "      hist[q] = hist[q] + 1\n",
        "\n",
        "  return hist\n",
        "h = createHist(quals)\n",
        "print(h)\n"
      ],
      "metadata": {
        "colab": {
          "base_uri": "https://localhost:8080/"
        },
        "id": "13c944ypYmt5",
        "outputId": "ddd0b6ee-856b-42e8-c2e6-f376f59f9f2f"
      },
      "execution_count": 52,
      "outputs": [
        {
          "output_type": "stream",
          "name": "stdout",
          "text": [
            "[0, 0, 6178, 0, 0, 54, 108, 574, 345, 83, 193, 124, 79, 165, 49, 236, 184, 327, 514, 238, 531, 254, 313, 798, 992, 888, 1396, 1488, 993, 1752, 3387, 4487, 3248, 5476, 8375, 11814, 4243, 7827, 6579, 8179, 9349, 8180, 0, 0, 0, 0, 0, 0, 0, 0]\n"
          ]
        }
      ]
    },
    {
      "cell_type": "code",
      "source": [
        "import matplotlib.pyplot as plt\n",
        "plt.bar(range(len(h)), h)\n",
        "plt.show()"
      ],
      "metadata": {
        "colab": {
          "base_uri": "https://localhost:8080/",
          "height": 265
        },
        "id": "048_7JzvZN7e",
        "outputId": "2b27f547-c941-4b3c-9586-2abc29f963be"
      },
      "execution_count": 54,
      "outputs": [
        {
          "output_type": "display_data",
          "data": {
            "text/plain": [
              "<Figure size 432x288 with 1 Axes>"
            ],
            "image/png": "[encoded data removed]"
          },
          "metadata": {
            "needs_background": "light"
          }
        }
      ]
    },
    {
      "cell_type": "code",
      "source": [
        ""
      ],
      "metadata": {
        "id": "_t2uSYKEZZpW"
      },
      "execution_count": null,
      "outputs": []
    }
  ]
}