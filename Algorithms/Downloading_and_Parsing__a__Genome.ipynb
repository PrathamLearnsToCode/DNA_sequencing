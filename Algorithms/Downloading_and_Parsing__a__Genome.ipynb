{
  "nbformat": 4,
  "nbformat_minor": 0,
  "metadata": {
    "colab": {
      "name": "Downloading_and_Parsing _a _Genome.ipynb",
      "provenance": []
    },
    "kernelspec": {
      "name": "python3",
      "display_name": "Python 3"
    },
    "language_info": {
      "name": "python"
    }
  },
  "cells": [
    {
      "cell_type": "code",
      "source": [
        "!wget --no-check https://d28rh4a8wq0iu5.cloudfront.net/ads1/data/lambda_virus.fa"
      ],
      "metadata": {
        "colab": {
          "base_uri": "https://localhost:8080/"
        },
        "id": "esllbANxQjUd",
        "outputId": "2c11479e-6ef5-4b65-bf0b-6271831af9a4"
      },
      "execution_count": 41,
      "outputs": [
        {
          "output_type": "stream",
          "name": "stdout",
          "text": [
            "--2022-06-06 09:05:43--  https://d28rh4a8wq0iu5.cloudfront.net/ads1/data/lambda_virus.fa\n",
            "Resolving d28rh4a8wq0iu5.cloudfront.net (d28rh4a8wq0iu5.cloudfront.net)... 108.156.61.226, 108.156.61.78, 108.156.61.38, ...\n",
            "Connecting to d28rh4a8wq0iu5.cloudfront.net (d28rh4a8wq0iu5.cloudfront.net)|108.156.61.226|:443... connected.\n",
            "HTTP request sent, awaiting response... 200 OK\n",
            "Length: 49270 (48K) [application/octet-stream]\n",
            "Saving to: ‘lambda_virus.fa’\n",
            "\n",
            "lambda_virus.fa     100%[===================>]  48.12K  --.-KB/s    in 0.003s  \n",
            "\n",
            "2022-06-06 09:05:43 (13.7 MB/s) - ‘lambda_virus.fa’ saved [49270/49270]\n",
            "\n"
          ]
        }
      ]
    },
    {
      "cell_type": "code",
      "source": [
        "def readGenome(filename):\n",
        "  genome = ''\n",
        "  with open(filename, 'r') as f:\n",
        "    for line in f:\n",
        "      if not line[0] == '>':\n",
        "        genome = line.rstrip() + genome\n",
        "  return genome\n",
        "\n",
        "genome = readGenome(\"/content/lambda_virus.fa\")\n",
        "genome[:100]\n"
      ],
      "metadata": {
        "colab": {
          "base_uri": "https://localhost:8080/",
          "height": 53
        },
        "id": "qTZYVNdPQ0fh",
        "outputId": "bf981ef1-adb0-4717-fb27-6006a140ec6c"
      },
      "execution_count": 42,
      "outputs": [
        {
          "output_type": "execute_result",
          "data": {
            "text/plain": [
              "'TGATATGTAGATGATAATCATTATCACTTTACGGGTCCTTTCCGGTGATCCGACAGGTTACGAGATCAATTAATACGATACCTGCGTCATAATTGATTAT'"
            ],
            "application/vnd.google.colaboratory.intrinsic+json": {
              "type": "string"
            }
          },
          "metadata": {},
          "execution_count": 42
        }
      ]
    },
    {
      "cell_type": "code",
      "source": [
        "#Frequency of Bases\n",
        "count = {'A':0,'G':0,'T':0,\"C\":0}\n",
        "for i in genome:\n",
        "  count[i] = count[i] + 1\n",
        "  \n",
        "print(count)\n",
        "\n",
        "#alternate\n",
        "import collections \n",
        "collections.Counter(genome)"
      ],
      "metadata": {
        "colab": {
          "base_uri": "https://localhost:8080/"
        },
        "id": "smP1MRtwRoCj",
        "outputId": "7aef5709-3009-46bc-d066-48342c17b4f1"
      },
      "execution_count": 45,
      "outputs": [
        {
          "output_type": "stream",
          "name": "stdout",
          "text": [
            "{'A': 12334, 'G': 12820, 'T': 11986, 'C': 11362}\n"
          ]
        },
        {
          "output_type": "execute_result",
          "data": {
            "text/plain": [
              "Counter({'A': 12334, 'C': 11362, 'G': 12820, 'T': 11986})"
            ]
          },
          "metadata": {},
          "execution_count": 45
        }
      ]
    }
  ]
}