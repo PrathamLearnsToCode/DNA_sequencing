{
  "nbformat": 4,
  "nbformat_minor": 0,
  "metadata": {
    "colab": {
      "name": "FASTA_file_refrence_genome.ipynb",
      "provenance": []
    },
    "kernelspec": {
      "name": "python3",
      "display_name": "Python 3"
    },
    "language_info": {
      "name": "python"
    }
  },
  "cells": [
    {
      "cell_type": "code",
      "source": [
        "!wget http://d28rh4a8wq0iu5.cloudfront.net/ads1/data/lambda_virus.fa"
      ],
      "metadata": {
        "colab": {
          "base_uri": "https://localhost:8080/"
        },
        "id": "XiT7YP-w2jEJ",
        "outputId": "e5d88f8d-4ca2-4803-d48e-e8828a9a1899"
      },
      "execution_count": 21,
      "outputs": [
        {
          "output_type": "stream",
          "name": "stdout",
          "text": [
            "--2022-01-27 18:47:44--  http://d28rh4a8wq0iu5.cloudfront.net/ads1/data/lambda_virus.fa\n",
            "Resolving d28rh4a8wq0iu5.cloudfront.net (d28rh4a8wq0iu5.cloudfront.net)... 13.32.192.207, 13.32.192.17, 13.32.192.185, ...\n",
            "Connecting to d28rh4a8wq0iu5.cloudfront.net (d28rh4a8wq0iu5.cloudfront.net)|13.32.192.207|:80... connected.\n",
            "HTTP request sent, awaiting response... 200 OK\n",
            "Length: 49270 (48K) [application/octet-stream]\n",
            "Saving to: ‘lambda_virus.fa.1’\n",
            "\n",
            "\rlambda_virus.fa.1     0%[                    ]       0  --.-KB/s               \rlambda_virus.fa.1   100%[===================>]  48.12K  --.-KB/s    in 0.002s  \n",
            "\n",
            "2022-01-27 18:47:44 (20.4 MB/s) - ‘lambda_virus.fa.1’ saved [49270/49270]\n",
            "\n"
          ]
        }
      ]
    },
    {
      "cell_type": "code",
      "source": [
        "def readGenome(filename):\n",
        "    genome = ''\n",
        "    with open(filename, 'r') as f:\n",
        "        for line in f:\n",
        "            # ignore header line with genome information\n",
        "            if not line[0] == '>':\n",
        "                genome += line.rstrip()\n",
        "    return genome\n",
        "genome = readGenome('lambda_virus.fa')\n",
        "genome[:100]"
      ],
      "metadata": {
        "colab": {
          "base_uri": "https://localhost:8080/",
          "height": 35
        },
        "id": "4fVpqdWg3Vgc",
        "outputId": "12ae37b2-8c19-4671-b09a-6618c2d3cef9"
      },
      "execution_count": 22,
      "outputs": [
        {
          "output_type": "execute_result",
          "data": {
            "application/vnd.google.colaboratory.intrinsic+json": {
              "type": "string"
            },
            "text/plain": [
              "'GGGCGGCGACCTCGCGGGTTTTCGCTATTTATGAAAATTTTCCGGTTTAAGGCGTTTCCGTTCTTCTTCGTCATAACTTAATGTTTTTATTTAAAATACC'"
            ]
          },
          "metadata": {},
          "execution_count": 22
        }
      ]
    },
    {
      "cell_type": "code",
      "source": [
        "# Count the number of occurences of each base\n",
        "counts = {'A': 0, 'C': 0, 'G': 0, 'T': 0}\n",
        "for base in genome:\n",
        "    counts[base] += 1\n",
        "print(counts)\n",
        "\n",
        "'''OR'''\n",
        "import collections\n",
        "collections.Counter(genome)"
      ],
      "metadata": {
        "colab": {
          "base_uri": "https://localhost:8080/"
        },
        "id": "EMac5tAS3Yv7",
        "outputId": "0e894e2e-ce83-441d-b5dc-6f11a5318972"
      },
      "execution_count": 25,
      "outputs": [
        {
          "output_type": "stream",
          "name": "stdout",
          "text": [
            "{'A': 12334, 'C': 11362, 'G': 12820, 'T': 11986}\n"
          ]
        },
        {
          "output_type": "execute_result",
          "data": {
            "text/plain": [
              "Counter({'A': 12334, 'C': 11362, 'G': 12820, 'T': 11986})"
            ]
          },
          "metadata": {},
          "execution_count": 25
        }
      ]
    }
  ]
}