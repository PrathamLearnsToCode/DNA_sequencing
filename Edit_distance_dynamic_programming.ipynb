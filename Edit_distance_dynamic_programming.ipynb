{
  "nbformat": 4,
  "nbformat_minor": 0,
  "metadata": {
    "colab": {
      "name": "Edit_distance_dynamic_programming.ipynb",
      "provenance": []
    },
    "kernelspec": {
      "name": "python3",
      "display_name": "Python 3"
    },
    "language_info": {
      "name": "python"
    }
  },
  "cells": [
    {
      "cell_type": "code",
      "execution_count": 1,
      "metadata": {
        "id": "DkBgDWwMdON1"
      },
      "outputs": [],
      "source": [
        "def editDistRecursive(x, y):\n",
        "    # This implementation is very slow\n",
        "    if len(x) == 0:\n",
        "        return len(y)\n",
        "    elif len(y) == 0:\n",
        "        return len(x)\n",
        "    else:\n",
        "        distHor = editDistRecursive(x[:-1], y) + 1\n",
        "        distVer = editDistRecursive(x, y[:-1]) + 1\n",
        "        if x[-1] == y[-1]:\n",
        "            distDiag = editDistRecursive(x[:-1], y[:-1])\n",
        "        else:\n",
        "            distDiag = editDistRecursive(x[:-1], y[:-1]) + 1\n",
        "        return min(distHor, distVer, distDiag)"
      ]
    },
    {
      "cell_type": "code",
      "source": [
        "def editDistance(x, y):\n",
        "    # Create distance matrix\n",
        "    D = []\n",
        "    for i in range(len(x)+1):\n",
        "        D.append([0]*(len(y)+1))\n",
        "    # Initialize first row and column of matrix\n",
        "    for i in range(len(x)+1):\n",
        "        D[i][0] = i\n",
        "    for i in range(len(y)+1):\n",
        "        D[0][i] = i\n",
        "    # Fill in the rest of the matrix\n",
        "    for i in range(1, len(x)+1):\n",
        "        for j in range(1, len(y)+1):\n",
        "            distHor = D[i][j-1] + 1\n",
        "            distVer = D[i-1][j] + 1\n",
        "            if x[i-1] == y[j-1]:\n",
        "                distDiag = D[i-1][j-1]\n",
        "            else:\n",
        "                distDiag = D[i-1][j-1] + 1\n",
        "            D[i][j] = min(distHor, distVer, distDiag)\n",
        "    # Edit distance is the value in the bottom right corner of the matrix\n",
        "    return D[-1][-1]"
      ],
      "metadata": {
        "id": "BzMTcdB-dTVj"
      },
      "execution_count": 2,
      "outputs": []
    },
    {
      "cell_type": "code",
      "source": [
        "%%time\n",
        "x = 'shake spea'\n",
        "y = 'Shakespear'\n",
        "editDistRecursive(x, y)"
      ],
      "metadata": {
        "colab": {
          "base_uri": "https://localhost:8080/"
        },
        "id": "5XusPJI2dU67",
        "outputId": "daf62d27-8ee2-4e1b-a772-a6fe15b78ac9"
      },
      "execution_count": 3,
      "outputs": [
        {
          "output_type": "stream",
          "name": "stdout",
          "text": [
            "CPU times: user 7 s, sys: 17.3 ms, total: 7.02 s\n",
            "Wall time: 7.33 s\n"
          ]
        }
      ]
    },
    {
      "cell_type": "code",
      "source": [
        "%%time\n",
        "x = 'shake spea'\n",
        "y = 'Shakespear'\n",
        "editDistance(x, y)"
      ],
      "metadata": {
        "colab": {
          "base_uri": "https://localhost:8080/"
        },
        "id": "evEWsJeMdWw4",
        "outputId": "46d06cf7-1161-4993-fd54-069bd4da4947"
      },
      "execution_count": 4,
      "outputs": [
        {
          "output_type": "stream",
          "name": "stdout",
          "text": [
            "CPU times: user 92 µs, sys: 2 µs, total: 94 µs\n",
            "Wall time: 96.3 µs\n"
          ]
        }
      ]
    }
  ]
}