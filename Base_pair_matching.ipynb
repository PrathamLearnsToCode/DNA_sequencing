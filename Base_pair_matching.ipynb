{
  "nbformat": 4,
  "nbformat_minor": 0,
  "metadata": {
    "colab": {
      "name": "Base_pair_matching.ipynb",
      "provenance": []
    },
    "kernelspec": {
      "name": "python3",
      "display_name": "Python 3"
    },
    "language_info": {
      "name": "python"
    }
  },
  "cells": [
    {
      "cell_type": "code",
      "source": [
        "#Generating a random nucleotide and sequence\n",
        "import random\n",
        "print(random.choice('AGCT'))\n",
        "\n",
        "seq = ''\n",
        "for i in range(1,10):\n",
        "  seq = seq + random.choice('AGCT')\n",
        "print(seq)\n",
        "\n",
        "''' OR'''\n",
        "\n",
        "seq = ''.join([random.choice('ACGT') for i in range(10)])\n",
        "print(seq)"
      ],
      "metadata": {
        "id": "1YR8AxDMCyRo",
        "colab": {
          "base_uri": "https://localhost:8080/"
        },
        "outputId": "2c5e7fb6-def0-4ce0-c593-5826847b3db5"
      },
      "execution_count": 12,
      "outputs": [
        {
          "output_type": "stream",
          "name": "stdout",
          "text": [
            "A\n",
            "AGACGTTGA\n",
            "GAAGCTCGAT\n"
          ]
        }
      ]
    },
    {
      "cell_type": "code",
      "source": [
        "#Longest common prefix in two Sequences\n",
        "def longestCommonPrefixes(s1,s2):\n",
        "   i = 0\n",
        "   while i < len(s1) and i < len(s2) and s1[i] == s2[i]:\n",
        "     i += 1\n",
        "   return s1[:i]\n",
        "longestCommonPrefixes('ACCATTG', 'ACCAAGTC')"
      ],
      "metadata": {
        "colab": {
          "base_uri": "https://localhost:8080/",
          "height": 35
        },
        "id": "iAU36JF50O5M",
        "outputId": "fbba2cf0-58aa-4c9b-f98f-547f674b95bf"
      },
      "execution_count": 16,
      "outputs": [
        {
          "output_type": "execute_result",
          "data": {
            "application/vnd.google.colaboratory.intrinsic+json": {
              "type": "string"
            },
            "text/plain": [
              "'ACCA'"
            ]
          },
          "metadata": {},
          "execution_count": 16
        }
      ]
    },
    {
      "cell_type": "code",
      "source": [
        "def match(s1, s2):\n",
        "    if not len(s1) == len(s2):\n",
        "        return False\n",
        "    for i in range(0, len(s1)):\n",
        "        if not s1[i] == s2[i]:\n",
        "            return False\n",
        "    return True\n",
        "match('ACCATTG', 'ACCATTG')"
      ],
      "metadata": {
        "colab": {
          "base_uri": "https://localhost:8080/"
        },
        "id": "D85sbYIn1E_G",
        "outputId": "ab59b170-fb8f-495e-b7c5-604451fa0a9d"
      },
      "execution_count": 17,
      "outputs": [
        {
          "output_type": "execute_result",
          "data": {
            "text/plain": [
              "True"
            ]
          },
          "metadata": {},
          "execution_count": 17
        }
      ]
    },
    {
      "cell_type": "code",
      "source": [
        "#For the reverse complementary of the corresponding base\n",
        "def reverseComplement(s):\n",
        "    complement = {'A': 'T', 'C': 'G', 'G': 'C', 'T': 'A'}\n",
        "    t = ''\n",
        "    for base in s:\n",
        "        t = complement[base] + t\n",
        "    return t\n",
        "reverseComplement('ACCATTG')"
      ],
      "metadata": {
        "colab": {
          "base_uri": "https://localhost:8080/",
          "height": 35
        },
        "id": "1g4GKbDT2fP6",
        "outputId": "3a7a3333-9a23-4ca2-aeff-b37259b808f7"
      },
      "execution_count": 19,
      "outputs": [
        {
          "output_type": "execute_result",
          "data": {
            "application/vnd.google.colaboratory.intrinsic+json": {
              "type": "string"
            },
            "text/plain": [
              "'CAATGGT'"
            ]
          },
          "metadata": {},
          "execution_count": 19
        }
      ]
    },
    {
      "cell_type": "code",
      "source": [
        ""
      ],
      "metadata": {
        "id": "XiT7YP-w2jEJ"
      },
      "execution_count": null,
      "outputs": []
    }
  ]
}