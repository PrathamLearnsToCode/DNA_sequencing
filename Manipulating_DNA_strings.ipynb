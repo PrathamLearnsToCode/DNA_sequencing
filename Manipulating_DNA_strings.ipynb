{
  "nbformat": 4,
  "nbformat_minor": 0,
  "metadata": {
    "colab": {
      "name": "Manipulating_DNA_strings.ipynb",
      "provenance": []
    },
    "kernelspec": {
      "name": "python3",
      "display_name": "Python 3"
    },
    "language_info": {
      "name": "python"
    }
  },
  "cells": [
    {
      "cell_type": "code",
      "source": [
        "#Finding longest prefixes in two DNA strings\n",
        "def longestCommonPrefix(s1,s2):\n",
        "  i = 0\n",
        "  while(i<len(s1) and i<len(s2) and s1[i]==s2[i]):\n",
        "    i = i + 1 \n",
        "  return s1[:i]\n",
        "\n",
        "longestCommonPrefix('CCATGT','CCAGAC')"
      ],
      "metadata": {
        "colab": {
          "base_uri": "https://localhost:8080/",
          "height": 35
        },
        "id": "K2sCm4TVLhWF",
        "outputId": "912cfe3c-dd2a-4a11-98c3-873757954082"
      },
      "execution_count": 36,
      "outputs": [
        {
          "output_type": "execute_result",
          "data": {
            "text/plain": [
              "'CCA'"
            ],
            "application/vnd.google.colaboratory.intrinsic+json": {
              "type": "string"
            }
          },
          "metadata": {},
          "execution_count": 36
        }
      ]
    },
    {
      "cell_type": "code",
      "source": [
        "#Matching Strings exactly\n",
        "def match(s1,s2):\n",
        "  if not (len(s1)==len(s2)):\n",
        "    return False\n",
        "\n",
        "  for i in range(len(s1)):\n",
        "    if not s1[i] == s2[i]:\n",
        "      return False\n",
        "\n",
        "  return True\n",
        "\n",
        "match('ACTT','ACGT')"
      ],
      "metadata": {
        "colab": {
          "base_uri": "https://localhost:8080/"
        },
        "id": "mjaxrKiPMwym",
        "outputId": "88ec6b35-f105-4f97-e6b8-b5f118641b80"
      },
      "execution_count": 39,
      "outputs": [
        {
          "output_type": "execute_result",
          "data": {
            "text/plain": [
              "False"
            ]
          },
          "metadata": {},
          "execution_count": 39
        }
      ]
    }
  ]
}